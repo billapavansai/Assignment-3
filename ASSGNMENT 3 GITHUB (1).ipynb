{
 "cells": [
  {
   "cell_type": "code",
   "execution_count": 1,
   "id": "7eaff927",
   "metadata": {},
   "outputs": [],
   "source": [
    "# 1. Write a Python program that prints all the numbers from  0 to 6 except 3 and 6"
   ]
  },
  {
   "cell_type": "code",
   "execution_count": 2,
   "id": "b43f2afe",
   "metadata": {},
   "outputs": [
    {
     "name": "stdout",
     "output_type": "stream",
     "text": [
      "01245"
     ]
    }
   ],
   "source": [
    "for x in range(7):\n",
    "    if (x == 3 or x==6):\n",
    "        continue\n",
    "    print(x,end='')\n"
   ]
  },
  {
   "cell_type": "code",
   "execution_count": 6,
   "id": "fe2ca89f",
   "metadata": {},
   "outputs": [
    {
     "name": "stdout",
     "output_type": "stream",
     "text": [
      "0134"
     ]
    }
   ],
   "source": [
    "x=0\n",
    "while x<5:\n",
    "    print(x,end=\"\")\n",
    "    x+=1\n",
    "    if (x == 2 or x==5):\n",
    "        x+=1"
   ]
  },
  {
   "cell_type": "code",
   "execution_count": 7,
   "id": "816dd0c5",
   "metadata": {},
   "outputs": [],
   "source": [
    "# 2. Write a program to accept a number from a user and calculate the sum of all numbers from 1 to a given number"
   ]
  },
  {
   "cell_type": "code",
   "execution_count": 8,
   "id": "4b13921e",
   "metadata": {},
   "outputs": [
    {
     "name": "stdout",
     "output_type": "stream",
     "text": [
      "Enter a number: 100\n",
      "The sum of all numbers from 1 to the given number is:  5050\n"
     ]
    }
   ],
   "source": [
    "x= int(input(\"Enter a number: \"))\n",
    "y=0\n",
    "for n in range(x+1):\n",
    "    y+=n\n",
    "print(\"The sum of all numbers from 1 to the given number is: \",y)\n"
   ]
  },
  {
   "cell_type": "code",
   "execution_count": 10,
   "id": "ae42ceaf",
   "metadata": {},
   "outputs": [
    {
     "name": "stdout",
     "output_type": "stream",
     "text": [
      "Enter a number: 20\n",
      "The sum of all numbers from 1 to the given number is:  210\n"
     ]
    }
   ],
   "source": [
    "x=int(input(\"Enter a number: \"))\n",
    "total_numbers=x\n",
    "y=0\n",
    "while x>= 0:\n",
    "    y+=x\n",
    "    x-=1\n",
    "print(\"The sum of all numbers from 1 to the given number is: \",y)\n"
   ]
  },
  {
   "cell_type": "code",
   "execution_count": 11,
   "id": "39a54b80",
   "metadata": {},
   "outputs": [],
   "source": [
    "# 3. Write a program to print multiplication table of a given number(input)"
   ]
  },
  {
   "cell_type": "code",
   "execution_count": 12,
   "id": "f5561063",
   "metadata": {},
   "outputs": [
    {
     "name": "stdout",
     "output_type": "stream",
     "text": [
      "10*0=0\n",
      "10*1=10\n",
      "10*2=20\n",
      "10*3=30\n",
      "10*4=40\n",
      "10*5=50\n",
      "10*6=60\n",
      "10*7=70\n",
      "10*8=80\n",
      "10*9=90\n",
      "10*10=100\n",
      "10*11=110\n",
      "10*12=120\n",
      "10*13=130\n",
      "10*14=140\n",
      "10*15=150\n",
      "10*16=160\n",
      "10*17=170\n",
      "10*18=180\n",
      "10*19=190\n",
      "10*20=200\n"
     ]
    }
   ],
   "source": [
    "def mul(x,y):\n",
    "    for n in range(0,y+1):\n",
    "        z=x*n\n",
    "        print(\"{}*{}={}\".format(x,n,z))\n",
    "mul(10,20)\n"
   ]
  },
  {
   "cell_type": "code",
   "execution_count": 13,
   "id": "63b94ead",
   "metadata": {},
   "outputs": [
    {
     "name": "stdout",
     "output_type": "stream",
     "text": [
      "enter num1 : 2\n",
      "enter num2 : 10\n",
      "2*1=2\n",
      "2*2=4\n",
      "2*3=6\n",
      "2*4=8\n",
      "2*5=10\n",
      "2*6=12\n",
      "2*7=14\n",
      "2*8=16\n",
      "2*9=18\n",
      "2*10=20\n"
     ]
    }
   ],
   "source": [
    "x=int(input(\"enter num1 : \"))\n",
    "y=int(input(\"enter num2 : \"))\n",
    "z=1\n",
    "while z<=y:\n",
    "    r=x*z\n",
    "    print(\"{}*{}={}\".format(x,z,r))\n",
    "    z+=1"
   ]
  },
  {
   "cell_type": "code",
   "execution_count": null,
   "id": "9ee8f8d1",
   "metadata": {},
   "outputs": [],
   "source": [
    "# 4. Write a program to count the total number of digits in a number using a while loop.\n",
    "#    For example, the number is 75869, so the output should be 5."
   ]
  },
  {
   "cell_type": "code",
   "execution_count": 15,
   "id": "b5255548",
   "metadata": {},
   "outputs": [
    {
     "name": "stdout",
     "output_type": "stream",
     "text": [
      "enter number : 124612258461347895646216965983329584985621135\n",
      "Length of 124612258461347895646216965983329584985621135 is : 45\n"
     ]
    }
   ],
   "source": [
    "num=input(\"enter number : \")\n",
    "a=0\n",
    "for i in num:\n",
    "    a+=1\n",
    "print(\"Length of {} is : {}\".format(num,a)) "
   ]
  },
  {
   "cell_type": "code",
   "execution_count": 16,
   "id": "0e44beb6",
   "metadata": {},
   "outputs": [
    {
     "name": "stdout",
     "output_type": "stream",
     "text": [
      "enter number : 125465789654874969856321458\n",
      "Length of 125465789654874969856321458 is : 27\n"
     ]
    }
   ],
   "source": [
    "num=input(\"enter number : \")\n",
    "x=True\n",
    "a=0\n",
    "while x:\n",
    "    for i in num:\n",
    "        a+=1\n",
    "    x=False\n",
    "print(\"Length of {} is : {}\".format(num,a))"
   ]
  },
  {
   "cell_type": "code",
   "execution_count": 17,
   "id": "cc4461d5",
   "metadata": {},
   "outputs": [],
   "source": [
    "# 5. Write a Python program to guess a number between 1 to 6\n",
    "#     Example:\n",
    "#     User is prompted to enter a guess. If the user guesses wrong then the prompt appears again until the guess is correct, on successful guess, user will get a \"Well guessed!\" message, and the program will exit.\n"
   ]
  },
  {
   "cell_type": "code",
   "execution_count": 19,
   "id": "5c945f84",
   "metadata": {},
   "outputs": [
    {
     "name": "stdout",
     "output_type": "stream",
     "text": [
      "enter number : 1\n",
      "Good Guess\n"
     ]
    }
   ],
   "source": [
    "num=int(input(\"enter number : \"))\n",
    "from random import shuffle\n",
    "x=[1,2,3,4,5,6]\n",
    "shuffle(x)\n",
    "for i in x:\n",
    "    if x[0]==num:\n",
    "        print(\"Good Guess\")\n",
    "        break\n",
    "    else:\n",
    "        num=int(input(\"enter number : \"))\n",
    "        continue"
   ]
  },
  {
   "cell_type": "code",
   "execution_count": 21,
   "id": "423e804a",
   "metadata": {},
   "outputs": [
    {
     "name": "stdout",
     "output_type": "stream",
     "text": [
      "enter number : 1\n",
      "enter number : 2\n",
      "enter number : 3\n",
      "enter number : 4\n",
      "Good guess!\n"
     ]
    }
   ],
   "source": [
    "num=int(input(\"enter number : \"))\n",
    "from random import shuffle\n",
    "dice=[1,2,3,4,5,6]\n",
    "shuffle(dice)\n",
    "x=True\n",
    "while x:\n",
    "    if dice[0]==num:\n",
    "        print(\"Good guess!\")\n",
    "        x=False\n",
    "    else:\n",
    "        num=int(input(\"enter number : \"))\n",
    "        continue"
   ]
  },
  {
   "cell_type": "markdown",
   "id": "d7fe5310",
   "metadata": {},
   "source": [
    "6. Write a Python program which iterates the integers from 1 to 60. For multiples of three print \"Fizz\" instead of the number and for the multiples of five print \"Buzz\". For numbers which are multiples of both three and five print \"FizzBuzz\"."
   ]
  },
  {
   "cell_type": "code",
   "execution_count": 24,
   "id": "cc79a469",
   "metadata": {},
   "outputs": [
    {
     "name": "stdout",
     "output_type": "stream",
     "text": [
      "1\n",
      "2\n",
      "Fizz\n",
      "4\n",
      "Buzz\n",
      "Fizz\n",
      "7\n",
      "8\n",
      "Fizz\n",
      "Buzz\n",
      "11\n",
      "Fizz\n",
      "13\n",
      "14\n",
      "Fizz\n",
      "16\n",
      "17\n",
      "Fizz\n",
      "19\n",
      "Buzz\n",
      "Fizz\n",
      "22\n",
      "23\n",
      "Fizz\n",
      "Buzz\n",
      "26\n",
      "Fizz\n",
      "28\n",
      "29\n",
      "Fizz\n",
      "31\n",
      "32\n",
      "Fizz\n",
      "34\n",
      "Buzz\n",
      "Fizz\n",
      "37\n",
      "38\n",
      "Fizz\n",
      "Buzz\n",
      "41\n",
      "Fizz\n",
      "43\n",
      "44\n",
      "Fizz\n",
      "46\n",
      "47\n",
      "Fizz\n",
      "49\n",
      "Buzz\n",
      "Fizz\n",
      "52\n",
      "53\n",
      "Fizz\n",
      "Buzz\n",
      "56\n",
      "Fizz\n",
      "58\n",
      "59\n",
      "Fizz\n"
     ]
    }
   ],
   "source": [
    "for i in range(1,61):\n",
    "    if i%3==0:\n",
    "        print(\"Fizz\")\n",
    "    elif i%5==0:\n",
    "        print(\"Buzz\")\n",
    "    elif i%3==0 and i%5==0:\n",
    "        print(\"FizzBuzz\")\n",
    "    else:\n",
    "        print(i)"
   ]
  },
  {
   "cell_type": "code",
   "execution_count": 1,
   "id": "bcbfe30a",
   "metadata": {},
   "outputs": [],
   "source": [
    "# 7.  Write a Python program that accepts a string and calculate the number of digits and letters\n",
    "#   Example:Input Python 3.2 \n",
    "#           Output Letters 6 Digits 2\n"
   ]
  },
  {
   "cell_type": "code",
   "execution_count": 2,
   "id": "f80cc484",
   "metadata": {},
   "outputs": [
    {
     "name": "stdout",
     "output_type": "stream",
     "text": [
      "enter input : 3.2\n",
      "Digits in 3.2 : 2\n",
      "Letters in 3.2 : 0\n"
     ]
    }
   ],
   "source": [
    "string=input(\"enter input : \")\n",
    "digit=0\n",
    "letters=0\n",
    "for elements in string:\n",
    "    if elements.isdigit():\n",
    "        digit+=1\n",
    "    elif elements.isalpha():\n",
    "        letters+=1\n",
    "print(\"Digits in {} : {}\".format(string,digit))\n",
    "print(\"Letters in {} : {}\".format(string,letters))"
   ]
  },
  {
   "cell_type": "code",
   "execution_count": 3,
   "id": "ec938c02",
   "metadata": {},
   "outputs": [],
   "source": [
    "# 8. Write a Python program to check the validity of password input by users. \n",
    "#    Validation: At least 1 letter between [a-z] and 1 letter between [A-Z]. \n",
    "#    At least 1 number between [0-9]. \n",
    "#    At least 1 character from [$#@].\n",
    "#    Minimum length 6 characters.\n",
    "#    Maximum length 16 characters."
   ]
  },
  {
   "cell_type": "code",
   "execution_count": 6,
   "id": "7e03e647",
   "metadata": {},
   "outputs": [
    {
     "name": "stdout",
     "output_type": "stream",
     "text": [
      "Pavan@97\n",
      "OK\n",
      "You have given valid Password.\n"
     ]
    }
   ],
   "source": [
    "password=input()\n",
    "lowercase=0\n",
    "uppercase=0\n",
    "num=0\n",
    "sym=0\n",
    "symbol=[\"@\",\"$\",\"#\"]\n",
    "for elements in password:\n",
    "    if elements.isalpha():\n",
    "        if elements==elements.upper():\n",
    "            uppercase+=1\n",
    "        elif elements==elements.lower():\n",
    "            lowercase+=1\n",
    "    elif elements in symbol:\n",
    "        sym+=1\n",
    "    elif int(elements) in range(0,10):\n",
    "        num+=1\n",
    "if len(password)<6:\n",
    "    print(\"Your Password must contain atleast 6 charecters\")\n",
    "elif len(password)>16:\n",
    "    print(\"Your Password length is greater than limits, Please reduce some charecters\")\n",
    "elif num==0:\n",
    "    print(\"Please include numbers inside your password\")\n",
    "elif uppercase==0:\n",
    "    print(\"Please include upperr case letters inside your password\")\n",
    "elif lowercase==0:\n",
    "    print(\"Please include lower case letters inside your password\")\n",
    "else:\n",
    "    print(\"OK\\nYou have given valid Password.\")"
   ]
  },
  {
   "cell_type": "code",
   "execution_count": 7,
   "id": "da505617",
   "metadata": {},
   "outputs": [],
   "source": [
    "# 9.  Write a program in Python to reverse a word by using while loop\n"
   ]
  },
  {
   "cell_type": "code",
   "execution_count": 8,
   "id": "3483872a",
   "metadata": {},
   "outputs": [
    {
     "name": "stdout",
     "output_type": "stream",
     "text": [
      "Enter : \n",
      "saipavan\n",
      "navapias \n"
     ]
    }
   ],
   "source": [
    "print(\"Enter : \")\n",
    "word=input()\n",
    "length=len(word)\n",
    "reverse=\"\"\n",
    "while length > 0:\n",
    "    reverse+=word[length-1]\n",
    "    length=length-1\n",
    "print(\"{} \".format(reverse))"
   ]
  },
  {
   "cell_type": "code",
   "execution_count": null,
   "id": "b035c7f6",
   "metadata": {},
   "outputs": [],
   "source": [
    "# 10. Write a program which takes 10 integers as input using loop and print their average value on the screen"
   ]
  },
  {
   "cell_type": "code",
   "execution_count": 6,
   "id": "e6a43b42",
   "metadata": {},
   "outputs": [
    {
     "name": "stdout",
     "output_type": "stream",
     "text": [
      "Please enter 10 values to findout their average :\n",
      "1\n",
      "2\n",
      "3\n",
      "4\n",
      "5\n",
      "6\n",
      "7\n",
      "9\n",
      "8\n",
      "9\n",
      "The average of given numbers = 5.4\n"
     ]
    }
   ],
   "source": [
    "print(\"Please enter 10 values to findout their average :\")\n",
    "a=[]\n",
    "for i in range(0,10):\n",
    "    num=int(input())\n",
    "    a.append(num)\n",
    "total=sum(a)\n",
    "print(\"The average of given numbers = {}\".format(total/len(a)))"
   ]
  },
  {
   "cell_type": "markdown",
   "id": "ef481c06",
   "metadata": {},
   "source": [
    "11.Write a program which takes integer inputs from user until he/she presses “q” (Ask to press q to quit after every integer input). Print average a"
   ]
  },
  {
   "cell_type": "code",
   "execution_count": 7,
   "id": "d0b02a5d",
   "metadata": {},
   "outputs": [
    {
     "name": "stdout",
     "output_type": "stream",
     "text": [
      "enter numbers in the provided boxes findout their average and the product :\n",
      "give a number : 11\n",
      "if you want to exit press - q\n",
      "give a number : 22\n",
      "if you want to exit press - q\n",
      "give a number : 33\n",
      "if you want to exit press - q\n",
      "give a number : 44\n",
      "if you want to exit press - q\n",
      "give a number : 55\n",
      "if you want to exit press - q\n",
      "give a number : 66\n",
      "if you want to exit press - q\n",
      "give a number : 77\n",
      "if you want to exit press - q\n",
      "give a number : 88\n",
      "if you want to exit press - q\n",
      "give a number : 99\n",
      "if you want to exit press - q\n",
      "give a number : 999\n",
      "if you want to exit press - q\n",
      "give a number : 654\n",
      "if you want to exit press - q\n",
      "give a number : 4353\n",
      "if you want to exit press - q\n",
      "give a number : 3355\n",
      "if you want to exit press - q\n",
      "give a number : q\n",
      "\n",
      "Product = 8164350247552472303761939200\n",
      "Average = 758.1538461538462\n"
     ]
    }
   ],
   "source": [
    "print(\"enter numbers in the provided boxes findout their average and the product :\")\n",
    "numbers=[]\n",
    "newnum=[]\n",
    "product=1\n",
    "while True:\n",
    "    num=input(\"give a number : \")\n",
    "    if num==\"q\":\n",
    "        break\n",
    "    print(\"if you want to exit press - q\")\n",
    "    numbers.append(num)\n",
    "for j in numbers:\n",
    "    a=int(j)\n",
    "    newnum.append(a)\n",
    "for i in newnum:\n",
    "    product=product*i\n",
    "total=sum(newnum)\n",
    "average=total/len(newnum)\n",
    "print(\"\\nProduct = {}\".format(product))\n",
    "print(\"Average = {}\".format(average))\n"
   ]
  },
  {
   "cell_type": "code",
   "execution_count": null,
   "id": "2bc3f385",
   "metadata": {},
   "outputs": [],
   "source": [
    "# 12. Write a Python program which will remove all digits or any other characters from the string except alphabets"
   ]
  },
  {
   "cell_type": "code",
   "execution_count": 8,
   "id": "e8f6645d",
   "metadata": {},
   "outputs": [
    {
     "name": "stdout",
     "output_type": "stream",
     "text": [
      "Type your input here : adanourhnoiubyu1233\n",
      "adanourhnoiubyu\n"
     ]
    }
   ],
   "source": [
    "name=input(\"Type your input here : \")\n",
    "new=\"\"\n",
    "for letters in name:\n",
    "    if letters.isalpha():\n",
    "        new+=letters\n",
    "    else:\n",
    "        continue\n",
    "print(new)"
   ]
  },
  {
   "cell_type": "code",
   "execution_count": 9,
   "id": "6a4ec846",
   "metadata": {},
   "outputs": [],
   "source": [
    "# 13) Write a python program to find the sum of all even numbers from 0 to 10"
   ]
  },
  {
   "cell_type": "code",
   "execution_count": 10,
   "id": "7ee2e0a9",
   "metadata": {},
   "outputs": [
    {
     "name": "stdout",
     "output_type": "stream",
     "text": [
      "Sum of all even numbers from 0 to 10 are :-. 30\n"
     ]
    }
   ],
   "source": [
    "total=0\n",
    "for num in range(0,11):\n",
    "    if num%2==0:\n",
    "        total+=num\n",
    "print(\"Sum of all even numbers from 0 to 10 are :-. {}\".format(total))"
   ]
  },
  {
   "cell_type": "code",
   "execution_count": 11,
   "id": "b4ae93d2",
   "metadata": {},
   "outputs": [
    {
     "name": "stdout",
     "output_type": "stream",
     "text": [
      "Sum of all even numbers from 0 to 10 are :-. 30\n"
     ]
    }
   ],
   "source": [
    "total=0\n",
    "x=True\n",
    "while x:\n",
    "    for num in range(0,11):\n",
    "        if num%2==0:\n",
    "            total+=num\n",
    "    x=False\n",
    "print(\"Sum of all even numbers from 0 to 10 are :-. {}\".format(total))\n"
   ]
  },
  {
   "cell_type": "code",
   "execution_count": 12,
   "id": "2b99bd4d",
   "metadata": {},
   "outputs": [],
   "source": [
    "# 14. Write a python program which will accept a digit and print All the numbers before it till 0\n"
   ]
  },
  {
   "cell_type": "code",
   "execution_count": 13,
   "id": "9a239279",
   "metadata": {},
   "outputs": [
    {
     "name": "stdout",
     "output_type": "stream",
     "text": [
      "Enter a number, so that you can get all the numbers which are before it till zero.\n",
      "Provide a number : 7\n",
      "7\n",
      "6\n",
      "5\n",
      "4\n",
      "3\n",
      "2\n",
      "1\n",
      "0\n"
     ]
    }
   ],
   "source": [
    "print(\"Enter a number, so that you can get all the numbers which are before it till zero.\")\n",
    "number=int(input(\"Provide a number : \"))\n",
    "\n",
    "while number>=0:\n",
    "    print(number)\n",
    "    number-=1"
   ]
  },
  {
   "cell_type": "code",
   "execution_count": 14,
   "id": "22dbd04f",
   "metadata": {},
   "outputs": [],
   "source": [
    "# 15. Create a dynamic calculator which will run continuasly till you press “c”\n"
   ]
  },
  {
   "cell_type": "code",
   "execution_count": 17,
   "id": "85d47c50",
   "metadata": {},
   "outputs": [
    {
     "name": "stdout",
     "output_type": "stream",
     "text": [
      "num 1 : 1\n",
      "choose any symbol from +,-,*,/ : *\n",
      "num 2 : 5\n",
      "1 * 5 = 5\n",
      "Press c to close : c\n"
     ]
    }
   ],
   "source": [
    "a=int(input(\"num 1 : \"))\n",
    "x=input(\"choose any symbol from +,-,*,/ : \")\n",
    "b=int(input(\"num 2 : \"))\n",
    "while True:\n",
    "    if x==\"+\":\n",
    "        print(\"{} {} {} = {}\".format(a,x,b,a+b))\n",
    "    elif x==\"-\":\n",
    "        print(\"{} {} {} = {}\".format(a,x,b,a-b))\n",
    "    elif x==\"*\":\n",
    "        print(\"{} {} {} = {}\".format(a,x,b,a*b))\n",
    "    elif x==\"/\":\n",
    "        print(\"{} {} {} = {}\".format(a,x,b,a/b))\n",
    "    new=input(\"Press c to close : \")\n",
    "    if new==\"c\" or new==\"C\":\n",
    "        break"
   ]
  },
  {
   "cell_type": "code",
   "execution_count": null,
   "id": "1b81e2cc",
   "metadata": {},
   "outputs": [],
   "source": []
  }
 ],
 "metadata": {
  "kernelspec": {
   "display_name": "Python 3 (ipykernel)",
   "language": "python",
   "name": "python3"
  },
  "language_info": {
   "codemirror_mode": {
    "name": "ipython",
    "version": 3
   },
   "file_extension": ".py",
   "mimetype": "text/x-python",
   "name": "python",
   "nbconvert_exporter": "python",
   "pygments_lexer": "ipython3",
   "version": "3.9.13"
  }
 },
 "nbformat": 4,
 "nbformat_minor": 5
}
